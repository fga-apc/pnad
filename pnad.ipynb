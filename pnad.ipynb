{
  "cells":[
    {
      "cell_type":"markdown",
      "source":[
        "Projeto: Dados da PNAD\n",
        "======================\n",
        "\n",
        "O presente trabalho é um tutorial guiado em que exploramos o uso de programação para a análise de um grande volume de dados. Vamos descobrir alguns resultados socioeconômicos sobre a população brasileira usando o Python como ferramenta de cálculo.\n",
        "\n",
        "Usaremos os dados da PNAD (Pesquisa Nacional por Amostra de Domicílios) de 2012. Os dados foram extraídos a partir dos arquivos fornecidos pelo IBGE, mas estão em um formato simplificado e incluem apenas uma pequena fração dos campos disponíveis no conjunto original.\n",
        "\n",
        "\n",
        "Conjunto de dados\n",
        "-----------------\n",
        "\n",
        "Os dados estão gravados em um arquivo do tipo CSV (comma separated values, ou valores separados por vírgulas) e representam uma tabela onde cada coluna corresponde a um tipo de valor e cada linha a um indivíduo.\n",
        "\n",
        "As colunas disponíveis são:\n",
        "\n",
        "* `id`: posição do elemento na tabela.\n",
        "* `education`: estimativa do número de anos de escolaridade do indivíduo.\n",
        "* `income`: renda total (reais)\n",
        "* `income_work`: renda do salário (reais)\n",
        "* `income_rent`: renda proveniente de aluguel (reais)\n",
        "* `income_capital`: renda proviente de investimentos financeiros e outros ganhos de capital (reais)\n",
        "* `race`: declaração de raça. Um dos grupos considerados pelo IBGE (preto, pardo, branco, amarelo ou indígena). Armazenado como um número.\n",
        "* `gender`: gênero masculino ou feminino. Armazenado como um número.\n",
        "* `weight`: peso estatístico da amostra. Corresponde ao número de pessoas na população brasileira que aquela entrada representa. \n",
        "\n",
        "Os valores monetários correspondem a reais de 2012, e se fossem corrigidos pela inflação corresponderiam aproximadamente ao dobro dos valores nominais em valores correntes (veja: https:\/\/www3.bcb.gov.br\/CALCIDADAO\/publico\/corrigirPorIndice.do?method=corrigirPorIndice)."
      ],
      "attachments":{
        
      },
      "metadata":{
        
      }
    },
    {
      "cell_type":"markdown",
      "source":[
        "### Lendo os dados\n",
        "\n",
        "O primeiro passo da nossa atividade consiste em carregar os dados em um formato conveniente para utilização no Python. O arquivo original consistem em várias linhas como a abaixo:\n",
        "\n",
        "```\n",
        "    42,13.0,,,,,16,2,246.0\n",
        "```\n",
        "\n",
        "Cada valor corresponde a uma coluna, sendo que alguns valores podem estar vazios. Precisamos ler strings como essa e retornar um objeto mais fácil de manipular. Existem várias opções: criar listas de números, dicionários ou até mesmo classes personalizadas.\n",
        "\n",
        "Você decide como proceder, mas antes, vamos criar a função que processa cada linha e retorna um valor no formato escolhido.\n",
        "\n",
        "Não importa como você quer representar as linhas de saída, somente preste atenção para salvar os campos em branco como zeros. Isso facilitará vários cálculos daqui para frente.\n",
        "\n",
        "Você deve completar o código da célula abaixo, substituindo ... pelo código Python correto."
      ],
      "attachments":{
        
      },
      "metadata":{
        
      }
    },
    {
      "cell_type":"code",
      "source":[
        "# A variável abaixo guarda o nome de cada coluna \n",
        "# como refererência\n",
        "COLUNAS = [\n",
        "    \"id\", \n",
        "    \"education\", \n",
        "    \"income\", \n",
        "    \"income_work\",\n",
        "    \"income_rent\", \n",
        "    \"income_capital\", \n",
        "    \"race\", \n",
        "    \"gender\", \n",
        "    \"weight\",\n",
        "]\n",
        "\n",
        "# Implemente a função ler_linha, que recebe uma linha como string e\n",
        "# retorna um valor do tipo que você escolher para representar \n",
        "# cada indivíduo.\n",
        "def ler_linha(linha: str):\n",
        "    ... # Implemente a função\n",
        "    return ...\n",
        "\n",
        "\n",
        "# Agora testamos com um exemplo. Funciona?\n",
        "ler_linha(\"42,13.0,,,,,16,2,246.0\")"
      ],
      "execution_count":29,
      "outputs":[
        
      ],
      "metadata":{
        
      }
    },
    {
      "cell_type":"markdown",
      "source":[
        "### Lendo o banco de dados\n",
        "\n",
        "O passo seguinte consiste em aplicar a função `ler_linha()` para criar uma lista em Python com cada entrada do CSV. Antes, você precisa carregar o CSV da PNAD no datalore (ou salvá-lo na mesma pasta do notebook, caso esteja utilizando um notebook tradicional). Baixe o arquivo em https:\/\/github.com\/fga-apc\/pnad\/raw\/main\/pnad2012.csv e salve-o no lugar apropriado.\n",
        "\n",
        "Precisamos ler cada linha deste arquivo e aplicar a função `ler_linha()` para em seguida armazernar os resultados em uma lista. Começamos com o código de ler um arquivo."
      ],
      "attachments":{
        
      },
      "metadata":{
        
      }
    },
    {
      "cell_type":"code",
      "source":[
        "arquivo = open(\"pnad2012.csv\")"
      ],
      "execution_count":24,
      "outputs":[
        
      ],
      "metadata":{
        
      }
    },
    {
      "cell_type":"markdown",
      "source":[
        "A função readline() associada aos arquivos lê uma única linha e avança o cursor de leitura para a linha seguinte. Queremos pular a primeira linha, já que ela contêm apenas os nomes das colunas."
      ],
      "attachments":{
        
      },
      "metadata":{
        
      }
    },
    {
      "cell_type":"code",
      "source":[
        "colunas = arquivo.readline() \n",
        "print('Colunas:', colunas)"
      ],
      "execution_count":19,
      "outputs":[
        
      ],
      "metadata":{
        
      }
    },
    {
      "cell_type":"markdown",
      "source":[
        "Agora lemos o restante das linhas aplicando a função `ler_linha()` criada por você. Após executar o código abaixo, o conteúdo do arquivo ficará armazenado como uma lista na variável `pessoas`."
      ],
      "attachments":{
        
      },
      "metadata":{
        
      }
    },
    {
      "cell_type":"code",
      "source":[
        "pessoas = []\n",
        "for linha in arquivo:\n",
        "    pessoas.append(ler_linha(linha))\n",
        "\n",
        "# Dica: às vezes o notebook fica em um estado inconsistente e \n",
        "# produz erros aparentemente sem sentido. Se isto acontecer, tente\n",
        "# executar o comando `Run > Run all above`. Isso possivelmente \n",
        "# restaurará a execução para um estado válido.  "
      ],
      "execution_count":20,
      "outputs":[
        
      ],
      "metadata":{
        
      }
    },
    {
      "cell_type":"markdown",
      "source":[
        "Pronto! \n",
        "\n",
        "Nosso banco de dados agora está salvo na variável `pessoas`. Vamos explorá-lo um pouquinho para descobrir algumas informações sobre a população brasileira. O primeiro passo é descobrir qual o valor numérico atribuído a cada gênero. Para isso, vamos usar alguns fatos conhecidos sobre nossa população:\n",
        "\n",
        "1) Existem mais mulheres que homens na população.\n",
        "2) A renda média dos homens é maior que a das mulheres.\n",
        "\n",
        "A estrutura básica do código consiste em iterar sobre todas as pessoas somando a variável `weight` de cada categoria. Isso dará o total de homens e mulheres na população. A partir daí, descobriremos qual código representa cada gênero.\n",
        "\n",
        "Você precisa completar os `...` com o código correto. "
      ],
      "attachments":{
        
      },
      "metadata":{
        
      }
    },
    {
      "cell_type":"code",
      "source":[
        "total_cod_1 = 0\n",
        "total_cod_2 = 0\n",
        "total_cod_outros = 0\n",
        "\n",
        "for pessoa in pessoas:\n",
        "    cod_genero = ...  # extraia o gênero da pessoa (coluna gender)\n",
        "    peso       = ...  # extraia o peso estatístico (coluna weight)\n",
        "    \n",
        "    if cod_genero == 1:\n",
        "        total_cod_1 += peso\n",
        "    elif cod_genero == 2:\n",
        "        total_cod_2 += peso\n",
        "    # Colocamos o else para ter certeza que os únicos\n",
        "    # códigos existentes são 1 ou 2.\n",
        "    else:\n",
        "        total_cod_outros += peso\n",
        "        \n",
        "print('Códigos de gênero:')\n",
        "print(f'  1: {total_cod_1:12_}')\n",
        "print(f'  2: {total_cod_2:12_}')\n",
        "print(f'  outros: {total_cod_outros:12_}')"
      ],
      "execution_count":22,
      "outputs":[
        
      ],
      "metadata":{
        
      }
    },
    {
      "cell_type":"markdown",
      "source":[
        "Ótimo! Agora que sabemos que código corresponde a cada gênero, vamos salvá-lo nas constantes constantes correspondentes."
      ],
      "attachments":{
        
      },
      "metadata":{
        
      }
    },
    {
      "cell_type":"code",
      "source":[
        "MULHER = ...  # Complete com o código correto!\n",
        "HOMEM  = ..."
      ],
      "execution_count":26,
      "outputs":[
        
      ],
      "metadata":{
        
      }
    },
    {
      "cell_type":"markdown",
      "source":[
        "Vamos fazer um teste para conferir. Sabemos que o salário médio das mulheres é menor que o dos homens. Podemos verificar isso nos dados e descobrir a diferença exatamente. \n",
        "\n",
        "Assim como antes, complete os `...` com o código correto. "
      ],
      "attachments":{
        
      },
      "metadata":{
        
      }
    },
    {
      "cell_type":"code",
      "source":[
        "salario_homens = 0\n",
        "salario_mulheres = 0\n",
        "n_homens = 0\n",
        "n_mulheres = 0\n",
        "\n",
        "for pessoa in pessoas:\n",
        "    salario = ...  # extraia o valor na coluna income_work\n",
        "    genero  = ...  # extraia o gênero da pessoa (coluna gender)\n",
        "    peso    = ...  # extraia o peso estatístico (coluna weight)\n",
        "    \n",
        "    if genero == MULHER:\n",
        "        salario_mulheres += salario * peso\n",
        "        n_mulheres += peso\n",
        "    \n",
        "    if genero == HOMEM:\n",
        "        salario_homens += salario * peso\n",
        "        n_homens += peso\n",
        "        \n",
        "\n",
        "# O salário médio é o total dos salários dividido\n",
        "# pelo total de pessoas.\n",
        "salario_homens \/= n_homens \n",
        "salario_mulheres \/= n_mulheres \n",
        "razao = salario_mulheres \/ salario_homens\n",
        "\n",
        "print('Salário médio:')\n",
        "print(f'  homens: {salario_homens:.1f}')\n",
        "print(f'  mulheres: {salario_mulheres:.1f}')\n",
        "print(f'  relativo: {100 * razao:.0f}%')"
      ],
      "execution_count":27,
      "outputs":[
        
      ],
      "metadata":{
        
      }
    },
    {
      "cell_type":"markdown",
      "source":[
        "Provavelmente a diferença calculada deve ser maior que a que você esperava (e que os valores normalmente repetidos na imprensa). Um dos motivos para isso é que usamos a média da massa salarial de cada gênero, sem considerar quem está empregado ou não. Como no Brasil existem menos mulheres empregadas que homens, a diferença fica ampliada nessa forma de cálculo.\n",
        "\n",
        "Vamos agora considerar apenas o salário médio de quem está empregado (ou seja, com a variável income_work diferente de zero). Isso corresponde ao valor mais comumente relatado para a diferença salarial entre os sexos, ainda que existam outras maneiras de medir que podem fornecer valores um pouco diferentes.\n",
        "\n",
        "Vamos simplesmente copiar o código acima e incluir uma cláusula para ignorar os elementos com salário nulo."
      ],
      "attachments":{
        
      },
      "metadata":{
        
      }
    },
    {
      "cell_type":"code",
      "source":[
        "salario_homens = 0\n",
        "salario_mulheres = 0\n",
        "n_homens = 0\n",
        "n_mulheres = 0\n",
        "\n",
        "for pessoa in pessoas:\n",
        "    salario = ...  # extraia o valor na coluna income_work\n",
        "    genero  = ...  # extraia o gênero da pessoa (coluna gender)\n",
        "    peso    = ...  # extraia o peso estatístico (coluna weight)\n",
        "    \n",
        "    if salario > 0:\n",
        "        if genero == MULHER:\n",
        "            salario_mulheres += salario * peso\n",
        "            n_mulheres += peso\n",
        "        \n",
        "        if genero == HOMEM:\n",
        "            salario_homens += salario * peso\n",
        "            n_homens += peso\n",
        "        \n",
        "\n",
        "# O salário médio é o total dos salários dividido\n",
        "# pelo total de pessoas.\n",
        "salario_homens \/= n_homens \n",
        "salario_mulheres \/= n_mulheres \n",
        "razao = salario_mulheres \/ salario_homens\n",
        "\n",
        "print('Salário médio:')\n",
        "print(f'  homens: {salario_homens:.1f}')\n",
        "print(f'  mulheres: {salario_mulheres:.1f}')\n",
        "print(f'  relativo: {100 * razao:.0f}%')"
      ],
      "execution_count":8,
      "outputs":[
        
      ],
      "metadata":{
        
      }
    },
    {
      "cell_type":"markdown",
      "source":[
        "Muito bem! Repare como ao considerar apenas pessoas empregadas, a média salarial dos dois gêneros aumentou bastante e a diferença salarial diminuiu. Além do gênero, a escolaridade também afeta fortemente a expectativa salarial. Copie e cole o código da célula anterior e adapte para incluir somente os indivíduos de uma determinada faixa de escolaridade. \n",
        "\n",
        "Vamos perguntar a escolaridade para usuário utilizando a função input() e em seguida realizar o cálculo das médias somente para a faixa de escolaridade escolhida. Adapte o código da célula anterior para considerar essa nova variável.\n",
        "\n",
        "(Bônus: quem quiser se desafiar, procure sobre a função [matplotlib.pyplot.bar](https:\/\/matplotlib.org\/stable\/api\/_as_gen\/matplotlib.pyplot.bar.html) e ao invés de pedir uma escolaridade específica, mostre um gráfico de barras com os salários médios de cada faixa de escolaridade tanto para homens quanto para mulheres)."
      ],
      "attachments":{
        
      },
      "metadata":{
        
      }
    },
    {
      "cell_type":"code",
      "source":[
        "# Pergunta a escolaridade para o usuário\n",
        "escolaridade = int(input(\"Escolaridade (anos): \"))\n",
        "\n",
        "\n",
        "# (copie e cole o código da célula anterior e altere para incluir apenas a faixa\n",
        "#  de escolaridade desejada)\n",
        "... "
      ],
      "execution_count":28,
      "outputs":[
        
      ],
      "metadata":{
        
      }
    },
    {
      "cell_type":"markdown",
      "source":[
        "Os resultados acima talvez pareçam contraditórios: a diferença salarial entre homens e mulheres parece maior que a diferença global em praticamente todas as faixas de escolaridade. Como pode isso?\n",
        "\n",
        "De fato, esta contradição é apenas aparente. A escolaridade média das mulheres é **maior** que a dos homens. Se pensarmos no salário de forma \"meritocrática\" como uma recompensa para o esforço (aqui medido como anos de estudo), esperaríamos que a média salarial das mulheres deveria ser maior que a dos homens por causa disso. No entanto, outros fatores de desigualdade que prejudicam as mulheres acabam predominando e vemos a média salarial menor. Historicamente, o salário médio dos homens sempre foi maior que o das mulheres. A inversão da escolaridade média, no entanto é um fenômeno relativamente recente e não ocorre em todas as faixas etárias. \n",
        "\n",
        "Vamos verificar se isto acontece e quantos anos (ou meses) de diferença de escolaridade existe entre os dois sexos. Use o código acima como inspiração, já que a solução é muito parecida."
      ],
      "attachments":{
        
      },
      "metadata":{
        
      }
    },
    {
      "cell_type":"code",
      "source":[
        "# Inicialize as variáveis acumuladoras\n",
        "edu_homens   = ...\n",
        "edu_mulheres = ...\n",
        "n_homens   = ...\n",
        "n_mulheres = ...\n",
        "\n",
        "for pessoa in pessoas:\n",
        "    # Extraia as informações da pessoa\n",
        "    escolaridade = ...\n",
        "    genero       = ...\n",
        "    peso         = ...\n",
        "    \n",
        "    if genero == MULHER:\n",
        "        ...  # O que fazer em cada ramo?\n",
        "\n",
        "    if genero == HOMEM:\n",
        "        ...\n",
        "        \n",
        "\n",
        "print('Escolaridade média:')\n",
        "print(f'  homens: {edu_homens \/ n_homens:.1f}')\n",
        "print(f'  mulheres: {edu_mulheres \/ n_mulheres:.1f}')"
      ],
      "execution_count":10,
      "outputs":[
        
      ],
      "metadata":{
        
      }
    },
    {
      "cell_type":"markdown",
      "source":[
        "### Raça\n",
        "\n",
        "Agora que vimos alguns dos efeitos do sexo e escolaridade na renda, vamos nos voltar para outra variável crucial correlacionada com o desempenho socioeconômico: a raça. Deixei para o final porque a programação envolvida é a mais difícil, mas isto não significa que as desigualdades sejam menores. Enquanto antes tinhamos apenas duas categorias, homens e mulheres, agora temos 5. Armazenar os acumuladores de cada categoria separadamente em uma variável própria não é tão prático quanto antes.\n",
        "\n",
        "Antes de continuar, vale lembrar que \"raça\" é uma construção social e não possui base biológica. As categorias do IBGE tentam capturar como esse conceito se manifesta na população brasileira, mas a interpretação e a racialização (ou não-racialização) de determinados indivíduos é sempre altamente subjetiva e dependente do contexto social e cultural. Dito isso, o tutorial vai simplesmente se ater às variáveis disponibizadas pelo IBGE e tentar extrair alguns dados objetivos. \n",
        "\n",
        "Vamos utilizar um dicionário para salvar os resultados. A estratégia agora é salvar os acumuladores de cada grupo racial em uma entrada de um dicionário. Assim, ao iterar sobre cada indivíduo da população, podemos atualizar somente o campo correspondente à sua raça. Um código básico que conta a população de cada raça, portanto, ficaria assim:"
      ],
      "attachments":{
        
      },
      "metadata":{
        
      }
    },
    {
      "cell_type":"code",
      "source":[
        "# Inicializamos cada categoria com a contagem parcial\n",
        "# Lembramos que as raças são representadas por potências de\n",
        "# dois\n",
        "n_pessoas = {0: 0, 1: 0, 2: 0, 4: 0, 8: 0, 16: 0}\n",
        "\n",
        "for pessoa in pessoas:\n",
        "    # Complete o código para ler as informações sobre a pessoa\n",
        "    raca = ...\n",
        "    peso = ...\n",
        "    \n",
        "    # Aqui incrementamos o campo associado à raça da pessoa escolhida \n",
        "    n_pessoas[raca] += peso    \n",
        "        \n",
        "\n",
        "print('Distribução das raças:')\n",
        "for raca_cod, n in n_pessoas.items():\n",
        "    print(f'  {raca_cod:2.0f}: {n:12_}')"
      ],
      "execution_count":1,
      "outputs":[
        
      ],
      "metadata":{
        
      }
    },
    {
      "cell_type":"markdown",
      "source":[
        "\n",
        "Para descobrir qual raça corresponda a cada código, vamos utilizar os seguintes fatos conhecidos sobre a população.\n",
        "\n",
        "1) Os dois grupos mais numerosos são brancos e pardos.\n",
        "2) Os dois grupos menos numerosos são amarelos e indígenas.\n",
        "3) A renda média dos brancos é maior que a dos pardos.\n",
        "4) A renda média dos amarelos é maior que a dos indígenas. \n",
        "\n",
        "\n",
        "Vemos aqui os dois números candidatos para branco e pardo (as maiores populações) e para amarelo e indígena (as duas menores). Por exclusão, também determinamos o código para pretos. Vemos também que existem alguns poucos casos classificados como zero. Isso provavelmente corresponde a erro na entrada de dados do IBGE ou a formulários ilegíveis onde não foi possivel determinar a raça. \n",
        "\n",
        "Vamos agora calcular os salários médios de cada raça e decidir a questão de uma vez por todas. Modifique o código abaixo para calcular o salário médio entre os assalariados para cada raça. Para essa análise, desconsidere os elementos com o código de raça nulo. Essa categoria é estatisticamente irrelevante e acaba dificultando a análise."
      ],
      "attachments":{
        
      },
      "metadata":{
        
      }
    },
    {
      "cell_type":"code",
      "source":[
        "n_pessoas = {1: 0, 2: 0, 4: 0, 8: 0, 16: 0}\n",
        "salarios = {1: 0, 2: 0, 4: 0, 8: 0, 16: 0}\n",
        "\n",
        "for pessoa in pessoas:\n",
        "    # Leia informações sobre a pessoa\n",
        "    raca = ...\n",
        "    peso = ...\n",
        "    salario = ...\n",
        "\n",
        "    if salario > 0:\n",
        "        # Atualize os acumuladores, somente para assalariados\n",
        "        ...\n",
        "        \n",
        "\n",
        "print('Distribução de salários entre as raças:')\n",
        "for raca, n in n_pessoas.items():\n",
        "    media = salarios[raca] \/ n \n",
        "    print(f'  {raca:2.0f}: {media:.1f}')\n",
        "\n",
        "# (antes de executar o código faça uma aposta: qual \n",
        "# grupo você acredita possuir a maior renda média e \n",
        "# qual possui a menor?)"
      ],
      "execution_count":2,
      "outputs":[
        
      ],
      "metadata":{
        
      }
    },
    {
      "cell_type":"markdown",
      "source":[
        "Ótimo! \n",
        "\n",
        "O resultado foi o que você esperava?\n",
        "\n",
        "Agora com base nos dados de tamanho da população e salário médio, podemos preencher as variáveis abaixo com o código de cada raça "
      ],
      "attachments":{
        
      },
      "metadata":{
        
      }
    },
    {
      "cell_type":"code",
      "source":[
        "RACA_BRANCO   = ...\n",
        "RACA_PRETO    = ...\n",
        "RACA_PARDO    = ...\n",
        "RACA_INDIGENA = ...\n",
        "RACA_AMARELO  = ...\n",
        "\n",
        "# O \n",
        "RACA_NOMES = {\n",
        "    RACA_BRANCO: \"branco\",\n",
        "    RACA_PRETO: \"preto\",\n",
        "    RACA_PARDO: \"pardo\",\n",
        "    RACA_INDIGENA: \"indígena\",\n",
        "    RACA_AMARELO: \"amarelo\",\n",
        "}"
      ],
      "execution_count":30,
      "outputs":[
        
      ],
      "metadata":{
        
      }
    },
    {
      "cell_type":"markdown",
      "source":[
        "O próximo passo é encontrar a média de escolaridade para cada grupo. Adapte o código anterior para realizar esse cálculo e imprima as escolaridades médias. Você pode imprimir o código numérico ou utilizar o dicionário `RACA_NOMES` para mostrar a descrição associada a cada código."
      ],
      "attachments":{
        
      },
      "metadata":{
        
      }
    },
    {
      "cell_type":"code",
      "source":[
        "n_pessoas = {1: 0, 2: 0, 4: 0, 8: 0, 16: 0}\n",
        "escolaridades = {1: 0, 2: 0, 4: 0, 8: 0, 16: 0}\n",
        "\n",
        "for pessoa in pessoas:\n",
        "    # Leia informações sobre a pessoa\n",
        "    raca = ...\n",
        "    peso = ...\n",
        "    escolaridade = ...\n",
        "\n",
        "    # Atualize os acumuladores n_pessoas e escolaridades\n",
        "    ...\n",
        "\n",
        "\n",
        "print('Distribução de escolaridade entre as raças:')\n",
        "for raca, n in n_pessoas.items():\n",
        "    media = escolaridade[raca] \/ n\n",
        "    raca = RACA_NOMES[raca]\n",
        "    print(f'  {raca}: {media:.1f}')"
      ],
      "execution_count":21,
      "outputs":[
        
      ],
      "metadata":{
        
      }
    },
    {
      "cell_type":"markdown",
      "source":[
        "Vemos que as categorias com maior escolaridade tendem a receber melhor, mas existem algumas exceções importantes a essa regra. De fato, a escolaridade explica uma parte da desigualdade, mas não tudo. Se a escolaridade fosse o fator dominante na diferenças salarial, esperaríamos que cada raça teria a mesma remuneração para cada faixa de escolaridade. Além disso, as mulheres deveriam receber um salário médio maior que o dos homens.\n",
        "\n",
        "Na última parte do tutorial, vamos tentar mensurar a parte da desigualdade referente à escolaridade e a separá-la da parte devido a outros fatores. A pergunta então é: se pudéssemos remover a discrepância de escolaridade, qual seria a média salarial?\n",
        "\n",
        "O primeiro passo é extrair os salários médios de cada categoria de escolaridade para cada raça separadamente. Podemos fazer isto utilizando um dicionário que relacione raças a listas com os acumuladores de cada faixa de escolaridade."
      ],
      "attachments":{
        
      },
      "metadata":{
        
      }
    },
    {
      "cell_type":"code",
      "source":[
        "n_pessoas     = {k: [0] * 16 for k in [1, 2, 4, 8, 16]}\n",
        "salarios      = {k: [0] * 16 for k in [1, 2, 4, 8, 16]}\n",
        "\n",
        "for pessoa in pessoas:\n",
        "    # Extraia informações sobre a pessoa    \n",
        "    raca = ...\n",
        "    peso = ...\n",
        "    salario = ...\n",
        "\n",
        "    if salario > 0:\n",
        "        n_pessoas[raca][escolaridade] += peso    \n",
        "        salarios[raca][escolaridade] += salario * peso\n",
        "\n",
        "print('Distribução de salários entre as raças:')\n",
        "for raca, n in total.items():\n",
        "    raca = RACA_NOMES[raca]\n",
        "    \n",
        "    # Calculamos os salarios médios usando uma compreensão de listas\n",
        "    #  - zip(as, bs), cria uma lista de pares (a, b)\n",
        "    salarios_medios = [x \/ y for (x, y) in zip(salarios[raca], n)] \n",
        "    \n",
        "    print(f'  {raca}: {salarios_medios}')"
      ],
      "execution_count":25,
      "outputs":[
        
      ],
      "metadata":{
        
      }
    },
    {
      "cell_type":"markdown",
      "source":[
        "Agora que temos a informação completa, vamos criar uma lista com a escolaridade média em cada faixa etária (somente entre os assalariados), ignorando o fator raça."
      ],
      "attachments":{
        
      },
      "metadata":{
        
      }
    },
    {
      "cell_type":"code",
      "source":[
        "escolaridades = [0] * 16\n",
        "\n",
        "for pessoa in pessoas:\n",
        "    peso         = ...\n",
        "    escolaridade = ...\n",
        "    salario      = ...\n",
        "\n",
        "    # Selecionamos apenas os assalariados\n",
        "    if salario > 0:\n",
        "        escolaridades[escolaridade] += peso    \n",
        "\n",
        "# Somamos as frações em cada escolaridade para obter a população total \n",
        "populacao = sum(escolaridades)\n",
        "\n",
        "# Criamos pesos com as proporções da população em cada faixa de escolaridade\n",
        "ws = [x \/ populacao for x in escolaridades]\n",
        "\n",
        "print(ws)"
      ],
      "execution_count":29,
      "outputs":[
        
      ],
      "metadata":{
        
      }
    },
    {
      "cell_type":"markdown",
      "source":[
        "Na última parte da atividade, vamos juntar as duas informações: por um lado temos a distribuição de escolaridades na população brasileira, por outro, sabemos o salário médio de cada raça por faixa de escolaridade. Podemos reconstruir o salário médio geral de cada raça supondo que a escolaridade corresponde à média da população brasileira. Basta calcular a média dos salários ponderada pela distribuição de escolaridade, como na fórmula\n",
        "\n",
        "$$S_i = \\sum_j s_j f_j,$$\n",
        "\n",
        "onde $S_i$ representa a média salarial corrigida para a i-ésima raça, s_ij é o salário da raça $i$ e escolaridade $j$ e $f_j$ representa a fração da população total com escolaridade $j$. \n",
        "\n",
        "Implemente esse somatório em código e imprima o resultado da média salarial corrigida para cada raça."
      ],
      "attachments":{
        
      },
      "metadata":{
        
      }
    },
    {
      "cell_type":"code",
      "source":[
        "for raca, rendas in salarios.items():\n",
        "    ... # complete o código\n",
        "    salario = ...\n",
        "    raca = RACA_NOMES[raca]\n",
        "    print(f'  {raca}: {salario}')"
      ],
      "execution_count":39,
      "outputs":[
        
      ],
      "metadata":{
        
      }
    },
    {
      "cell_type":"markdown",
      "source":[
        "Perceba que os grupos com maior escolaridade viram a média salarial abaixar um pouco, mas ainda assim a desigualdade de renda persiste. A discussão sobre os motivos dessa persistência passa por sociologia, história, estudos de gênero e raça e fogem bastante do escopo desse trabalho.\n",
        "\n",
        "Com isso, também terminamos a atividade. Espero que você tenha aprendido um pouco mais sobre a realidade do seu país e de como utilizar Python para navegar esses dados."
      ],
      "attachments":{
        
      },
      "metadata":{
        
      }
    }
  ],
  "metadata":{
    
  },
  "nbformat":4,
  "nbformat_minor":0
}